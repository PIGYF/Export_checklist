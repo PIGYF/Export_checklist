{
 "cells": [
  {
   "cell_type": "code",
   "execution_count": 55,
   "id": "b53c1865",
   "metadata": {},
   "outputs": [
    {
     "ename": "WebDriverException",
     "evalue": "Message: unknown error: cannot determine loading status\nfrom disconnected: unable to send message to renderer\n  (Session info: chrome=92.0.4515.107)\n",
     "output_type": "error",
     "traceback": [
      "\u001b[1;31m---------------------------------------------------------------------------\u001b[0m",
      "\u001b[1;31mWebDriverException\u001b[0m                        Traceback (most recent call last)",
      "\u001b[1;32m<ipython-input-55-45f584f83db3>\u001b[0m in \u001b[0;36m<module>\u001b[1;34m\u001b[0m\n\u001b[0;32m     15\u001b[0m \u001b[1;33m\u001b[0m\u001b[0m\n\u001b[0;32m     16\u001b[0m \u001b[0murl\u001b[0m \u001b[1;33m=\u001b[0m \u001b[1;34m'http://icms.51haitun.cn/login?redirect=%2Fhome'\u001b[0m\u001b[1;33m\u001b[0m\u001b[1;33m\u001b[0m\u001b[0m\n\u001b[1;32m---> 17\u001b[1;33m \u001b[0mbrowser\u001b[0m\u001b[1;33m.\u001b[0m\u001b[0mget\u001b[0m\u001b[1;33m(\u001b[0m\u001b[0murl\u001b[0m\u001b[1;33m)\u001b[0m\u001b[1;33m\u001b[0m\u001b[1;33m\u001b[0m\u001b[0m\n\u001b[0m\u001b[0;32m     18\u001b[0m \u001b[1;31m#time.sleep(1)\u001b[0m\u001b[1;33m\u001b[0m\u001b[1;33m\u001b[0m\u001b[1;33m\u001b[0m\u001b[0m\n\u001b[0;32m     19\u001b[0m \u001b[1;33m\u001b[0m\u001b[0m\n",
      "\u001b[1;32mC:\\ProgramData\\Anaconda3\\lib\\site-packages\\selenium\\webdriver\\remote\\webdriver.py\u001b[0m in \u001b[0;36mget\u001b[1;34m(self, url)\u001b[0m\n\u001b[0;32m    331\u001b[0m         \u001b[0mLoads\u001b[0m \u001b[0ma\u001b[0m \u001b[0mweb\u001b[0m \u001b[0mpage\u001b[0m \u001b[1;32min\u001b[0m \u001b[0mthe\u001b[0m \u001b[0mcurrent\u001b[0m \u001b[0mbrowser\u001b[0m \u001b[0msession\u001b[0m\u001b[1;33m.\u001b[0m\u001b[1;33m\u001b[0m\u001b[1;33m\u001b[0m\u001b[0m\n\u001b[0;32m    332\u001b[0m         \"\"\"\n\u001b[1;32m--> 333\u001b[1;33m         \u001b[0mself\u001b[0m\u001b[1;33m.\u001b[0m\u001b[0mexecute\u001b[0m\u001b[1;33m(\u001b[0m\u001b[0mCommand\u001b[0m\u001b[1;33m.\u001b[0m\u001b[0mGET\u001b[0m\u001b[1;33m,\u001b[0m \u001b[1;33m{\u001b[0m\u001b[1;34m'url'\u001b[0m\u001b[1;33m:\u001b[0m \u001b[0murl\u001b[0m\u001b[1;33m}\u001b[0m\u001b[1;33m)\u001b[0m\u001b[1;33m\u001b[0m\u001b[1;33m\u001b[0m\u001b[0m\n\u001b[0m\u001b[0;32m    334\u001b[0m \u001b[1;33m\u001b[0m\u001b[0m\n\u001b[0;32m    335\u001b[0m     \u001b[1;33m@\u001b[0m\u001b[0mproperty\u001b[0m\u001b[1;33m\u001b[0m\u001b[1;33m\u001b[0m\u001b[0m\n",
      "\u001b[1;32mC:\\ProgramData\\Anaconda3\\lib\\site-packages\\selenium\\webdriver\\remote\\webdriver.py\u001b[0m in \u001b[0;36mexecute\u001b[1;34m(self, driver_command, params)\u001b[0m\n\u001b[0;32m    319\u001b[0m         \u001b[0mresponse\u001b[0m \u001b[1;33m=\u001b[0m \u001b[0mself\u001b[0m\u001b[1;33m.\u001b[0m\u001b[0mcommand_executor\u001b[0m\u001b[1;33m.\u001b[0m\u001b[0mexecute\u001b[0m\u001b[1;33m(\u001b[0m\u001b[0mdriver_command\u001b[0m\u001b[1;33m,\u001b[0m \u001b[0mparams\u001b[0m\u001b[1;33m)\u001b[0m\u001b[1;33m\u001b[0m\u001b[1;33m\u001b[0m\u001b[0m\n\u001b[0;32m    320\u001b[0m         \u001b[1;32mif\u001b[0m \u001b[0mresponse\u001b[0m\u001b[1;33m:\u001b[0m\u001b[1;33m\u001b[0m\u001b[1;33m\u001b[0m\u001b[0m\n\u001b[1;32m--> 321\u001b[1;33m             \u001b[0mself\u001b[0m\u001b[1;33m.\u001b[0m\u001b[0merror_handler\u001b[0m\u001b[1;33m.\u001b[0m\u001b[0mcheck_response\u001b[0m\u001b[1;33m(\u001b[0m\u001b[0mresponse\u001b[0m\u001b[1;33m)\u001b[0m\u001b[1;33m\u001b[0m\u001b[1;33m\u001b[0m\u001b[0m\n\u001b[0m\u001b[0;32m    322\u001b[0m             response['value'] = self._unwrap_value(\n\u001b[0;32m    323\u001b[0m                 response.get('value', None))\n",
      "\u001b[1;32mC:\\ProgramData\\Anaconda3\\lib\\site-packages\\selenium\\webdriver\\remote\\errorhandler.py\u001b[0m in \u001b[0;36mcheck_response\u001b[1;34m(self, response)\u001b[0m\n\u001b[0;32m    240\u001b[0m                 \u001b[0malert_text\u001b[0m \u001b[1;33m=\u001b[0m \u001b[0mvalue\u001b[0m\u001b[1;33m[\u001b[0m\u001b[1;34m'alert'\u001b[0m\u001b[1;33m]\u001b[0m\u001b[1;33m.\u001b[0m\u001b[0mget\u001b[0m\u001b[1;33m(\u001b[0m\u001b[1;34m'text'\u001b[0m\u001b[1;33m)\u001b[0m\u001b[1;33m\u001b[0m\u001b[1;33m\u001b[0m\u001b[0m\n\u001b[0;32m    241\u001b[0m             \u001b[1;32mraise\u001b[0m \u001b[0mexception_class\u001b[0m\u001b[1;33m(\u001b[0m\u001b[0mmessage\u001b[0m\u001b[1;33m,\u001b[0m \u001b[0mscreen\u001b[0m\u001b[1;33m,\u001b[0m \u001b[0mstacktrace\u001b[0m\u001b[1;33m,\u001b[0m \u001b[0malert_text\u001b[0m\u001b[1;33m)\u001b[0m\u001b[1;33m\u001b[0m\u001b[1;33m\u001b[0m\u001b[0m\n\u001b[1;32m--> 242\u001b[1;33m         \u001b[1;32mraise\u001b[0m \u001b[0mexception_class\u001b[0m\u001b[1;33m(\u001b[0m\u001b[0mmessage\u001b[0m\u001b[1;33m,\u001b[0m \u001b[0mscreen\u001b[0m\u001b[1;33m,\u001b[0m \u001b[0mstacktrace\u001b[0m\u001b[1;33m)\u001b[0m\u001b[1;33m\u001b[0m\u001b[1;33m\u001b[0m\u001b[0m\n\u001b[0m\u001b[0;32m    243\u001b[0m \u001b[1;33m\u001b[0m\u001b[0m\n\u001b[0;32m    244\u001b[0m     \u001b[1;32mdef\u001b[0m \u001b[0m_value_or_default\u001b[0m\u001b[1;33m(\u001b[0m\u001b[0mself\u001b[0m\u001b[1;33m,\u001b[0m \u001b[0mobj\u001b[0m\u001b[1;33m,\u001b[0m \u001b[0mkey\u001b[0m\u001b[1;33m,\u001b[0m \u001b[0mdefault\u001b[0m\u001b[1;33m)\u001b[0m\u001b[1;33m:\u001b[0m\u001b[1;33m\u001b[0m\u001b[1;33m\u001b[0m\u001b[0m\n",
      "\u001b[1;31mWebDriverException\u001b[0m: Message: unknown error: cannot determine loading status\nfrom disconnected: unable to send message to renderer\n  (Session info: chrome=92.0.4515.107)\n"
     ]
    }
   ],
   "source": [
    "from selenium import webdriver\n",
    "from selenium.webdriver.chrome.options import Options\n",
    "import time\n",
    "import pandas as pd\n",
    "\n",
    "#df = pd.read_excel(r'C:\\Users\\Administrator\\Desktop\\tracking\\Export_checklist.xlsx')\n",
    "#numbers= df['Numbers']\n",
    "\n",
    "chrome_options = Options()\n",
    "options = webdriver.ChromeOptions()\n",
    "#chrome_options.add_argument(\"--headless\")\n",
    "options.add_argument('lang=zh_CN.UTF-8')\n",
    "options.add_argument('user-agent=\"Mozilla/5.0 (Windows NT 6.1) AppleWebKit/537.36 (KHTML, like Gecko) Chrome/92.0.4515.107 Safari/537.36\"')\n",
    "browser = webdriver.Chrome(options=chrome_options)\n",
    "\n",
    "url = 'http://icms.51haitun.cn/login?redirect=%2Fhome'\n",
    "browser.get(url)\n",
    "#time.sleep(1)\n",
    "\n",
    "username = '3205230076001'\n",
    "password = 'ssec1234'\n",
    "\n",
    "browser.find_element_by_css_selector('#login_card > form > div:nth-child(1) > div > div > input').send_keys(username)\n",
    "browser.find_element_by_xpath('//*[@id=\"login_card\"]/form/div[2]/div/div[1]/input').send_keys(password)\n",
    "browser.find_element_by_xpath('//*[@id=\"login_card\"]/form/div[4]/div/button').click()\n",
    "browser.implicitly_wait(5)\n",
    "\n",
    "browser.find_element_by_xpath('//*[@id=\"app\"]/div/div[1]/div[1]/div/ul/li[4]/div/i[2]').click()\n",
    "browser.implicitly_wait(5)\n",
    "browser.find_element_by_xpath('//*[@id=\"app\"]/div/div[1]/div[1]/div/ul/li[4]/ul/li[2]/span/span').click()\n",
    "browser.implicitly_wait(5)\n",
    "\n",
    "numbers = ['9100165313']\n",
    "for i in numbers:\n",
    "    try:\n",
    "        browser.find_element_by_xpath('//*[@id=\"app\"]/div/div[2]/div[2]/div/div[1]/div/section/div/div[1]/div/div[1]/div/div[2]/button[3]').click() #查询条件\n",
    "        time.sleep(2)\n",
    "        browser.find_element_by_xpath('//*[@id=\"app\"]/div/div[2]/div[2]/div/div[1]/div/section/div/div[1]/div/div[2]/div/form/div[1]/div/div/input').send_keys(i)  #企业内部编号\n",
    "        browser.find_element_by_xpath('//*[@id=\"app\"]/div/div[2]/div[2]/div/div[1]/div/section/div/div[1]/div/div[1]/div/div[2]/button[1]').click() #查询\n",
    "        \n",
    "        bgd_number = browser.find_element_by_xpath('//*[@id=\"app\"]/div/div[2]/div[2]/div/div[1]/div/section/div/div[3]/div/div[1]/div/div[2]/table/tbody/tr/td[6]/div').text\n",
    "        print(i, bgd_number)\n",
    "        \n",
    "        browser.find_element_by_xpath('//*[@id=\"app\"]/div/div[2]/div[2]/div/div[1]/div/section/div/div[3]/div/div[1]/div/div[4]/div[2]/table/tbody/tr/td[1]/div/label/span/input').click() #勾选操作\n",
    "        browser.find_element_by_xpath('//*[@id=\"app\"]/div/div[2]/div[2]/div/div[1]/div/section/div/div[2]/div/div[1]/div[2]/ul/li[1]/button').click() #打印pdf\n",
    "        #time.sleep(1)\n",
    "        #browser.find_element_by_xpath('//*[@id=\"app\"]/div/div[2]/div[2]/div/div[1]/div/section/div/div[2]/div/button[4]').click() #申报\n",
    "        #browser.find_element_by_xpath('/html/body/div[47]/div[2]/div/div/div/div/div[3]/button[2]').click() #确定\n",
    "        \n",
    "        \n",
    "        browser.refresh()\n",
    "        browser.implicitly_wait(10)\n",
    "    except:\n",
    "        print(i,\"查询失败\")\n",
    "        browser.refresh()\n",
    "        browser.implicitly_wait(10)\n",
    "\n",
    "#browser.quit()\n",
    "print(\"申报完成\")"
   ]
  },
  {
   "cell_type": "code",
   "execution_count": 57,
   "id": "2e2c596f",
   "metadata": {},
   "outputs": [
    {
     "name": "stdout",
     "output_type": "stream",
     "text": [
      "做AC,WM,还是REF： wm\n",
      "WM 2021-07-30    5\n",
      "Name: h:Est.GateIn, dtype: int64 计划\n"
     ]
    }
   ],
   "source": [
    "%run plan.py"
   ]
  },
  {
   "cell_type": "code",
   "execution_count": null,
   "id": "1d9dea31",
   "metadata": {},
   "outputs": [],
   "source": []
  }
 ],
 "metadata": {
  "kernelspec": {
   "display_name": "Python 3",
   "language": "python",
   "name": "python3"
  },
  "language_info": {
   "codemirror_mode": {
    "name": "ipython",
    "version": 3
   },
   "file_extension": ".py",
   "mimetype": "text/x-python",
   "name": "python",
   "nbconvert_exporter": "python",
   "pygments_lexer": "ipython3",
   "version": "3.8.8"
  }
 },
 "nbformat": 4,
 "nbformat_minor": 5
}
